{
 "cells": [
  {
   "cell_type": "markdown",
   "id": "40a3d474",
   "metadata": {},
   "source": [
    "# 1\n",
    "s = 'Hi there Sam!' 을 활용하여 아래와 같이 출력되도록 하세요. "
   ]
  },
  {
   "cell_type": "code",
   "execution_count": 1,
   "id": "d890b027",
   "metadata": {},
   "outputs": [],
   "source": [
    "s = 'Hi there Sam!'"
   ]
  },
  {
   "cell_type": "code",
   "execution_count": 6,
   "id": "2819635d",
   "metadata": {},
   "outputs": [],
   "source": [
    "t = s.split()"
   ]
  },
  {
   "cell_type": "code",
   "execution_count": 7,
   "id": "dc322b92",
   "metadata": {},
   "outputs": [
    {
     "data": {
      "text/plain": [
       "['Hi', 'there', 'Sam!']"
      ]
     },
     "execution_count": 7,
     "metadata": {},
     "output_type": "execute_result"
    }
   ],
   "source": [
    "t"
   ]
  },
  {
   "cell_type": "code",
   "execution_count": 8,
   "id": "92cc4eaa",
   "metadata": {},
   "outputs": [
    {
     "data": {
      "text/plain": [
       "'Sam!'"
      ]
     },
     "execution_count": 8,
     "metadata": {},
     "output_type": "execute_result"
    }
   ],
   "source": [
    "t.pop()"
   ]
  },
  {
   "cell_type": "code",
   "execution_count": 10,
   "id": "c1e84c08",
   "metadata": {},
   "outputs": [],
   "source": [
    "t.append('dad!')"
   ]
  },
  {
   "cell_type": "code",
   "execution_count": 22,
   "id": "15eb4c90",
   "metadata": {},
   "outputs": [
    {
     "data": {
      "text/plain": [
       "['Hi', 'there', 'dad!']"
      ]
     },
     "execution_count": 22,
     "metadata": {},
     "output_type": "execute_result"
    }
   ],
   "source": [
    "t"
   ]
  },
  {
   "cell_type": "markdown",
   "id": "4eaa361a",
   "metadata": {},
   "source": [
    "# 2\n",
    "## planet = \"Earth\"\n",
    "## diameter = 12742\n",
    "## 위 변수들을 활용하여 아래와 같이 출력되도록 하세요. \n"
   ]
  },
  {
   "cell_type": "code",
   "execution_count": 184,
   "id": "e6930969",
   "metadata": {},
   "outputs": [],
   "source": [
    "planet = \"Earth\"\n",
    "diameter = 12742"
   ]
  },
  {
   "cell_type": "code",
   "execution_count": 15,
   "id": "dec596fc",
   "metadata": {},
   "outputs": [],
   "source": [
    "pa = 'The diameter of {} is {} kilometers.'.format(planet, diameter)"
   ]
  },
  {
   "cell_type": "code",
   "execution_count": 181,
   "id": "4b36a8c4",
   "metadata": {},
   "outputs": [
    {
     "ename": "NameError",
     "evalue": "name 'pa' is not defined",
     "output_type": "error",
     "traceback": [
      "\u001b[1;31m---------------------------------------------------------------------------\u001b[0m",
      "\u001b[1;31mNameError\u001b[0m                                 Traceback (most recent call last)",
      "\u001b[1;32mC:\\Users\\Public\\Documents\\ESTsoft\\CreatorTemp\\ipykernel_10560\\3650102633.py\u001b[0m in \u001b[0;36m<module>\u001b[1;34m\u001b[0m\n\u001b[1;32m----> 1\u001b[1;33m \u001b[0mpa\u001b[0m\u001b[1;33m\u001b[0m\u001b[1;33m\u001b[0m\u001b[0m\n\u001b[0m",
      "\u001b[1;31mNameError\u001b[0m: name 'pa' is not defined"
     ]
    }
   ],
   "source": [
    "pa"
   ]
  },
  {
   "cell_type": "code",
   "execution_count": 185,
   "id": "f7ecfb68",
   "metadata": {},
   "outputs": [
    {
     "name": "stdout",
     "output_type": "stream",
     "text": [
      "The diameter of Earth is 12742 kilometers.\n"
     ]
    }
   ],
   "source": [
    "print(\"The diameter of {three} is {two} kilometers.\".format(three=planet, two=diameter))"
   ]
  },
  {
   "cell_type": "markdown",
   "id": "ff029339",
   "metadata": {},
   "source": [
    "# 3\n",
    "lst = [1,2,[3,4],[5,[100,200,['hello']],23,11],1,7] 을 활용하여 \n",
    "아래와 같이 출력되도록 하세요. \n"
   ]
  },
  {
   "cell_type": "code",
   "execution_count": 17,
   "id": "9f9d332c",
   "metadata": {},
   "outputs": [],
   "source": [
    "lst = [1,2,[3,4],[5,[100,200,[\"hello\"]],23,11],1,7]"
   ]
  },
  {
   "cell_type": "code",
   "execution_count": 23,
   "id": "88bea9f2",
   "metadata": {
    "scrolled": true
   },
   "outputs": [
    {
     "data": {
      "text/plain": [
       "'hello'"
      ]
     },
     "execution_count": 23,
     "metadata": {},
     "output_type": "execute_result"
    }
   ],
   "source": [
    "lst[3][1][2][0]\n",
    "#1\n",
    "#2\n",
    "#[3,4]\n",
    "#[5~11](\"hllo가 있다구\")\n",
    "#1\n",
    "#7"
   ]
  },
  {
   "cell_type": "markdown",
   "id": "fb942f13",
   "metadata": {},
   "source": [
    "# 4번 \n",
    "\n",
    "d = {'k1':[1,2,3,{'tricky':['oh','man','inception',{'target':[1,2,3,'hello']}]}]}\n",
    "위 변수를 활용하여 'hello' 가 출력되도록 하세요. \n"
   ]
  },
  {
   "cell_type": "code",
   "execution_count": 187,
   "id": "1d3442e7",
   "metadata": {},
   "outputs": [
    {
     "data": {
      "text/plain": [
       "'hello'"
      ]
     },
     "execution_count": 187,
     "metadata": {},
     "output_type": "execute_result"
    }
   ],
   "source": [
    "d = {'k1':[1,2,3,{'tricky':['oh','man','inception',{'target':[1,2,3,'hello']}]}]}\n",
    "d['k1'][3]['tricky'][3]['target'][3]\n",
    "#012345678\n",
    "#123456789\n",
    "\n",
    "#d['k1'][3]['tricky'][3]['target'][3]"
   ]
  },
  {
   "cell_type": "markdown",
   "id": "74db5eea",
   "metadata": {},
   "source": [
    "# 5번\n",
    "domainGet이라는 함수를 만들어서 아래와 같이 되도록 하세요."
   ]
  },
  {
   "cell_type": "code",
   "execution_count": 188,
   "id": "b79affa0",
   "metadata": {},
   "outputs": [
    {
     "data": {
      "text/plain": [
       "'domain.com'"
      ]
     },
     "execution_count": 188,
     "metadata": {},
     "output_type": "execute_result"
    }
   ],
   "source": [
    "domainGet= 'user@domain.com'\n",
    "domainGet.split('@')[-1]"
   ]
  },
  {
   "cell_type": "markdown",
   "id": "5d5da565",
   "metadata": {},
   "source": [
    "# 6번 \n",
    "findDog라는 함수를 만드세요. 이 함수는 파라미터에 ‘dog’라는 단어가 있을 경우 True를 반환하도록 하고, 없으면 False를 출력하는 것입니다. 아래와 같이 출력되도록 하세요.\n"
   ]
  },
  {
   "cell_type": "code",
   "execution_count": 178,
   "id": "cdd30a7d",
   "metadata": {},
   "outputs": [
    {
     "ename": "SyntaxError",
     "evalue": "invalid syntax (3804144155.py, line 4)",
     "output_type": "error",
     "traceback": [
      "\u001b[1;36m  File \u001b[1;32m\"C:\\Users\\Public\\Documents\\ESTsoft\\CreatorTemp\\ipykernel_10560\\3804144155.py\"\u001b[1;36m, line \u001b[1;32m4\u001b[0m\n\u001b[1;33m    else countDog('dog') < 0:\u001b[0m\n\u001b[1;37m         ^\u001b[0m\n\u001b[1;31mSyntaxError\u001b[0m\u001b[1;31m:\u001b[0m invalid syntax\n"
     ]
    }
   ],
   "source": [
    "def findDog(findDog = 'dog'):\n",
    "    "
   ]
  },
  {
   "cell_type": "code",
   "execution_count": 159,
   "id": "9ec6371a",
   "metadata": {},
   "outputs": [
    {
     "name": "stdout",
     "output_type": "stream",
     "text": [
      "dog\n"
     ]
    }
   ],
   "source": [
    "findDog('Is there a dog here?')"
   ]
  },
  {
   "cell_type": "markdown",
   "id": "b81dd132",
   "metadata": {},
   "source": [
    "# 7번\n",
    "countDog라는 함수를 만드세요. 이 함수는 파라미터에 ‘dog’라는 단어의 개수를 세어주는 기능을 합니다. \n",
    "아래와 같이 되도록 코딩하세요. \n"
   ]
  },
  {
   "cell_type": "code",
   "execution_count": 155,
   "id": "5e952749",
   "metadata": {
    "scrolled": true
   },
   "outputs": [],
   "source": [
    "def countDog(countDog = 'dog'):\n",
    "    print(countDog.count('dog'))"
   ]
  },
  {
   "cell_type": "code",
   "execution_count": 156,
   "id": "9e850332",
   "metadata": {},
   "outputs": [
    {
     "name": "stdout",
     "output_type": "stream",
     "text": [
      "2\n"
     ]
    }
   ],
   "source": [
    "countDog('This dog runs faster than the other dog dude!')"
   ]
  },
  {
   "cell_type": "markdown",
   "id": "e76796b3",
   "metadata": {},
   "source": [
    "# 8번\n",
    " seq = ['soup','dog','salad','cat','great'] 라는 변수를 활용하여 단어 맨 앞에 ‘s’가 포함된 단어만 아래와 같이 출력되도록 코딩하세요. \n"
   ]
  },
  {
   "cell_type": "code",
   "execution_count": 97,
   "id": "a2122c5a",
   "metadata": {},
   "outputs": [],
   "source": [
    "seq = ['soup','dog','salad','cat','great']"
   ]
  },
  {
   "cell_type": "code",
   "execution_count": 160,
   "id": "56f151a2",
   "metadata": {},
   "outputs": [],
   "source": [
    "# 애들 다 못히는 중인거 실화냐..?"
   ]
  },
  {
   "cell_type": "markdown",
   "id": "bdcacceb",
   "metadata": {},
   "source": [
    "# 9번 (20점)\n",
    "caught_speeding이라는 함수를 만드세요. 속도를 파라미터로 입력하면 그에 따른 범칙금 내용이 출력되도록 만드세요. 시속 80키로가 넘으면 '범칙금 8만원', 시속 60키로가 넘으면 '범칙금 6만원', 60키로 이하인 경우에는 '범칙금 없음'이 출력되도록 하세요. \n",
    "caught_speeding이라는 함수를 사용하여 아래와 같은 결과가 나오도록 하세요. "
   ]
  },
  {
   "cell_type": "code",
   "execution_count": 174,
   "id": "1b638074",
   "metadata": {},
   "outputs": [],
   "source": [
    "def caught_speeding(speed):\n",
    "    if speed > 80:\n",
    "        print(\"범칙금 8만원\")\n",
    "    elif speed > 60:\n",
    "        print(\"범칙금 6만원\")\n",
    "    elif speed <= 60:\n",
    "        print(\"그냥 가\")"
   ]
  },
  {
   "cell_type": "code",
   "execution_count": 177,
   "id": "d95aa91a",
   "metadata": {},
   "outputs": [
    {
     "name": "stdout",
     "output_type": "stream",
     "text": [
      "범칙금 6만원\n"
     ]
    }
   ],
   "source": [
    "caught_speeding(71)"
   ]
  }
 ],
 "metadata": {
  "kernelspec": {
   "display_name": "Python 3 (ipykernel)",
   "language": "python",
   "name": "python3"
  },
  "language_info": {
   "codemirror_mode": {
    "name": "ipython",
    "version": 3
   },
   "file_extension": ".py",
   "mimetype": "text/x-python",
   "name": "python",
   "nbconvert_exporter": "python",
   "pygments_lexer": "ipython3",
   "version": "3.9.13"
  }
 },
 "nbformat": 4,
 "nbformat_minor": 5
}
